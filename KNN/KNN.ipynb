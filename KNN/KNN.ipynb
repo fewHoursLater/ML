{
  "nbformat": 4,
  "nbformat_minor": 0,
  "metadata": {
    "colab": {
      "provenance": []
    },
    "kernelspec": {
      "name": "python3",
      "display_name": "Python 3"
    },
    "language_info": {
      "name": "python"
    }
  },
  "cells": [
    {
      "cell_type": "code",
      "execution_count": null,
      "metadata": {
        "colab": {
          "base_uri": "https://localhost:8080/"
        },
        "id": "Q2i-yGvwb6Bv",
        "outputId": "1e632d82-a91b-41af-c575-06283433b802"
      },
      "outputs": [
        {
          "output_type": "execute_result",
          "data": {
            "text/plain": [
              "0.7365"
            ]
          },
          "metadata": {},
          "execution_count": 12
        }
      ],
      "source": [
        "import pandas as pd\n",
        "import numpy as np\n",
        "\n",
        "all_data = pd.read_csv('forest_dataset.csv')\n",
        "all_data.head()\n",
        "\n",
        "all_data.shape\n",
        "\n",
        "labels = all_data[all_data.columns[-1]].values\n",
        "feature_matrix = all_data[all_data.columns[:-1]].values\n",
        "\n",
        "from sklearn.model_selection import train_test_split\n",
        "\n",
        "train_feature_matrix, test_feature_matrix, train_labels, test_labels = train_test_split(\n",
        "    feature_matrix, labels, test_size=0.2, random_state=42)\n",
        "\n",
        "\n",
        "from sklearn.neighbors import KNeighborsClassifier\n",
        "neigh = KNeighborsClassifier()\n",
        "neigh.fit(train_feature_matrix, train_labels)\n",
        "y_pred = neigh.predict(test_feature_matrix)\n",
        "\n",
        "from sklearn.metrics import accuracy_score\n",
        "\n",
        "accuracy_score(test_labels, y_pred)\n",
        "\n",
        "\n",
        "\n"
      ]
    },
    {
      "cell_type": "code",
      "source": [
        "from sklearn.model_selection import GridSearchCV\n",
        "params = {'n_neighbors': [1,2,3,4,5,6,7,8,9,10],'metric': ['manhattan', 'euclidean'], 'weights': ['uniform', 'distance']\n",
        "}\n",
        "\n",
        "clf_grid = GridSearchCV(neigh, params, cv=5, scoring='accuracy', n_jobs=-1)\n",
        "clf_grid.fit(feature_matrix, labels)\n",
        "print(clf_grid.best_params_)\n",
        "print(\"Hello\")\n",
        "\n"
      ],
      "metadata": {
        "colab": {
          "base_uri": "https://localhost:8080/"
        },
        "id": "YNUPakAAf6Nb",
        "outputId": "adfb9a93-c04c-4bb3-b382-9296223df3dd"
      },
      "execution_count": null,
      "outputs": [
        {
          "output_type": "stream",
          "name": "stdout",
          "text": [
            "{'metric': 'manhattan', 'n_neighbors': 4, 'weights': 'distance'}\n",
            "Hello\n"
          ]
        }
      ]
    },
    {
      "cell_type": "code",
      "source": [
        "optimal_clf = KNeighborsClassifier(n_neighbors = 4)\n",
        "\n",
        "optimal_clf.fit(train_feature_matrix, train_labels)\n",
        "\n",
        "y_pred = optimal_clf.predict_proba(test_feature_matrix)\n",
        "\n",
        "import matplotlib.pyplot as plt\n",
        "%matplotlib inline\n",
        "import numpy as np\n",
        "\n",
        "unique, freq = np.unique(test_labels, return_counts=True)\n",
        "freq = list(map(lambda x: x / len(test_labels),freq))\n",
        "\n",
        "pred_freq = y_pred.mean(axis=0)\n",
        "\n",
        "print(pred_freq[2])\n"
      ],
      "metadata": {
        "colab": {
          "base_uri": "https://localhost:8080/"
        },
        "id": "5Dn9lfH9go3R",
        "outputId": "976615b2-47c0-4208-cd95-daac56a033e0"
      },
      "execution_count": null,
      "outputs": [
        {
          "output_type": "stream",
          "name": "stdout",
          "text": [
            "0.05325\n"
          ]
        }
      ]
    }
  ]
}